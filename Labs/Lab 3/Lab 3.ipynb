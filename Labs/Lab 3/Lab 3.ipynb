{
 "cells": [
  {
   "cell_type": "markdown",
   "source": [
    "# Lab Three\n",
    "---\n",
    "\n",
    "Ok for this lab we're going to reiterate a lot of the things that we went over in class.\n",
    "\n",
    "Our Goals are:\n",
    "- Understanding Variable Types\n",
    "- Defining Variables\n",
    "- Using Conditionals\n",
    "- Using Loops\n",
    "- Creating Objects\n",
    "- Writing a function\n"
   ],
   "metadata": {}
  },
  {
   "cell_type": "markdown",
   "source": [
    "## What's the difference between Null and undefined?"
   ],
   "metadata": {}
  },
  {
   "cell_type": "markdown",
   "source": [
    "Null has no value, whereas undefined was declared, but never defined. \n",
    "Null equals 0 and undefined equals NaN. \n",
    "THe bowl example from class describes null equivalent to a bowl, and undefiend equivalent to a bowl that does not exist. "
   ],
   "metadata": {}
  },
  {
   "cell_type": "markdown",
   "source": [
    "## List the 3 Variable Types and Use Them!"
   ],
   "metadata": {}
  },
  {
   "cell_type": "code",
   "execution_count": null,
   "source": [
    "number = console.log(100+50);\n",
    "\n",
    "boolean = console.log(true);\n",
    "\n",
    "string = \"My name is Genevieve!\""
   ],
   "outputs": [],
   "metadata": {}
  },
  {
   "cell_type": "markdown",
   "source": [
    "## Use an If/Else If/Else Statement and a Switch Case statement"
   ],
   "metadata": {}
  },
  {
   "cell_type": "code",
   "execution_count": null,
   "source": [
    "if (\"Hi\" == \"Hi\") {\n",
    "    console.log(\"My name is Genevieve!\");\n",
    "} else if (friend) {\n",
    "    console.log(\"This is my friend Lauren\");\n",
    "} else {\n",
    "    console.log(\"This is my friend Ashley\");\n",
    "}\n",
    "\n",
    "let starter = \"Good Morning\";\n",
    "switch (starter) {\n",
    "    case \"Afternoon\":\n",
    "        console.log(\"Good Afternoon\");\n",
    "        break;\n",
    "    case \"Night\":\n",
    "        console.log(\"Good Night\");\n",
    "        break;\n",
    "}"
   ],
   "outputs": [],
   "metadata": {}
  },
  {
   "cell_type": "markdown",
   "source": [
    "## Use a For and a While Loop"
   ],
   "metadata": {}
  },
  {
   "cell_type": "code",
   "execution_count": null,
   "source": [
    "var friends = [\"Lauren\", \"Ashley\", \"Jake\", \"Mitchell\"];\n",
    "for (person of friends){\n",
    "    console.log(person);\n",
    "}\n",
    "\n",
    "var number = [1, 2, 3, 4, 5]\n",
    "while (number.length != 0) {\n",
    "    console.log(\"This is a while loop!\")\n",
    "}"
   ],
   "outputs": [],
   "metadata": {}
  },
  {
   "cell_type": "markdown",
   "source": [
    "## Make an object!"
   ],
   "metadata": {}
  },
  {
   "cell_type": "code",
   "execution_count": null,
   "source": [
    "let petDog = {\n",
    "    name: \"Mabel\",\n",
    "    color: \"Brown\",\n",
    "    size: \"small\",\n",
    "    age: 9\n",
    "}\n",
    "console.log(petDog);"
   ],
   "outputs": [],
   "metadata": {}
  },
  {
   "cell_type": "markdown",
   "source": [
    "## Make a function, It can do anything!"
   ],
   "metadata": {}
  },
  {
   "cell_type": "code",
   "execution_count": null,
   "source": [
    "function pet(name) {\n",
    "    console.log('All about my pet dog');\n",
    "}\n",
    "pet(petDog)"
   ],
   "outputs": [],
   "metadata": {}
  },
  {
   "cell_type": "markdown",
   "source": [
    "## Optional: Checkout HackerRank and try a problem in Javascript"
   ],
   "metadata": {}
  }
 ],
 "metadata": {
  "orig_nbformat": 4,
  "language_info": {
   "name": "javascript",
   "version": "10.22.0",
   "mimetype": "application/javascript",
   "file_extension": ".js"
  },
  "kernelspec": {
   "name": "javascript",
   "display_name": "Javascript (Node.js)",
   "language": "javascript"
  }
 },
 "nbformat": 4,
 "nbformat_minor": 2
}